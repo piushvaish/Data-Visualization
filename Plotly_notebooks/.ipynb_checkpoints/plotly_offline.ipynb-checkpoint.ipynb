{
 "cells": [
  {
   "cell_type": "markdown",
   "metadata": {},
   "source": [
    "Plotly Offline brings interactive Plotly graphs to the offline (local) environment. \n",
    "\n",
    "Instead of saving the graphs to a server, your data and graphs will remain in your local system.\n",
    "When your ready to share, you can just publish them to the web with an online [Plotly account](https://plot.ly/feed) or to your company's internal [Plotly Enterprise](https://plot.ly/product/enterprise).\n",
    "\n",
    "To get started with Plotly Offline, upgrade to the `1.9.x` series or higher:"
   ]
  },
  {
   "cell_type": "code",
   "execution_count": 1,
   "metadata": {},
   "outputs": [],
   "source": [
    "#! pip install plotly --upgrade"
   ]
  },
  {
   "cell_type": "code",
   "execution_count": 2,
   "metadata": {},
   "outputs": [
    {
     "ename": "SyntaxError",
     "evalue": "Missing parentheses in call to 'print' (<ipython-input-2-e02b1cab4db7>, line 4)",
     "output_type": "error",
     "traceback": [
      "\u001b[1;36m  File \u001b[1;32m\"<ipython-input-2-e02b1cab4db7>\"\u001b[1;36m, line \u001b[1;32m4\u001b[0m\n\u001b[1;33m    print __version__ # requires version >= 1.9.0\u001b[0m\n\u001b[1;37m                    ^\u001b[0m\n\u001b[1;31mSyntaxError\u001b[0m\u001b[1;31m:\u001b[0m Missing parentheses in call to 'print'\n"
     ]
    }
   ],
   "source": [
    "from plotly import __version__\n",
    "from plotly.offline import download_plotlyjs, init_notebook_mode, plot, iplot\n",
    "\n",
    "print __version__ # requires version >= 1.9.0"
   ]
  },
  {
   "cell_type": "markdown",
   "metadata": {},
   "source": [
    "## Running Plotly offline from Command Line\n",
    "You can plot your graphs from a python script from command line. On executing the script, it will open a web browser with your Plotly Graph drawn."
   ]
  },
  {
   "cell_type": "code",
   "execution_count": null,
   "metadata": {},
   "outputs": [],
   "source": [
    "from plotly.graph_objs import Bar, Scatter, Figure, Layout\n",
    "\n",
    "plot([Scatter(x=[1, 2, 3], y=[3, 1, 6])])"
   ]
  },
  {
   "cell_type": "markdown",
   "metadata": {},
   "source": [
    "## Static Image Export\n",
    "The graphs generated from Plotly Offline can also be saved as an Image, as shown below:"
   ]
  },
  {
   "cell_type": "code",
   "execution_count": null,
   "metadata": {},
   "outputs": [],
   "source": [
    "import plotly.plotly as py\n",
    "# Generate the figure\n",
    "\n",
    "trace = Bar(x=[1,2,3],y=[4,5,6])\n",
    "data = [trace]\n",
    "layout = Layout(title='My Plot')\n",
    "fig = Figure(data=data,layout=layout)\n",
    "\n",
    "# Save the figure as a png image:\n",
    "py.image.save_as(fig, 'my_plot.png')"
   ]
  },
  {
   "cell_type": "code",
   "execution_count": null,
   "metadata": {},
   "outputs": [],
   "source": [
    "from IPython.display import Image\n",
    "Image(filename='my_plot.png') "
   ]
  },
  {
   "cell_type": "markdown",
   "metadata": {},
   "source": [
    "## Generating Offline Graphs withing Jupyter Notebook\n",
    "You can also plot your graphs offline inside a Jupyter Notebook Environment. First you need to initiate the Plotly Notebook mode as below:"
   ]
  },
  {
   "cell_type": "code",
   "execution_count": null,
   "metadata": {},
   "outputs": [],
   "source": [
    "init_notebook_mode(connected=True) # run at the start of every ipython notebook to use plotly.offline\n",
    "                     # this injects the plotly.js source files into the notebook"
   ]
  },
  {
   "cell_type": "code",
   "execution_count": null,
   "metadata": {},
   "outputs": [],
   "source": [
    "iplot([{\"x\": [1, 2, 3], \"y\": [3, 1, 6]}])"
   ]
  },
  {
   "cell_type": "code",
   "execution_count": null,
   "metadata": {
    "collapsed": true
   },
   "outputs": [],
   "source": [
    "from plotly.graph_objs import *\n",
    "import numpy as np"
   ]
  },
  {
   "cell_type": "code",
   "execution_count": null,
   "metadata": {},
   "outputs": [],
   "source": [
    "iplot([Box(y = np.random.randn(50), showlegend=False) for i in range(45)], show_link=False)"
   ]
  },
  {
   "cell_type": "code",
   "execution_count": null,
   "metadata": {},
   "outputs": [],
   "source": [
    "x = np.random.randn(2000)\n",
    "y = np.random.randn(2000)\n",
    "iplot([Histogram2dContour(x=x, y=y, contours=Contours(coloring='heatmap')),\n",
    "       Scatter(x=x, y=y, mode='markers', marker=Marker(color='white', size=3, opacity=0.3))], show_link=False)"
   ]
  },
  {
   "cell_type": "code",
   "execution_count": null,
   "metadata": {},
   "outputs": [],
   "source": [
    "# Plotting with Pandas\n",
    "\n",
    "import pandas as pd\n",
    "df = pd.read_csv('https://plot.ly/~etpinard/191.csv')"
   ]
  },
  {
   "cell_type": "code",
   "execution_count": null,
   "metadata": {},
   "outputs": [],
   "source": [
    "iplot({\n",
    "    'data': [\n",
    "        Scatter(x=df[continent+'_Life Expentancy [in years]'],\n",
    "                y=df[continent+'_Gross Domestic Product per Capita [in USD of the year 2000]'],\n",
    "                text=df[continent+'_text'],\n",
    "                marker=Marker(size=df[continent+'_marker.size'], sizemode='area', sizeref=131868,),\n",
    "                mode='markers',\n",
    "                name=continent) for continent in ['Africa', 'Americas', 'Asia', 'Europe', 'Oceania']\n",
    "    ],\n",
    "    'layout': Layout(xaxis=XAxis(title='Life Expectancy'), yaxis=YAxis(title='GDP per Capita', type='log'))\n",
    "}, show_link=False)"
   ]
  },
  {
   "cell_type": "code",
   "execution_count": null,
   "metadata": {
    "collapsed": true
   },
   "outputs": [],
   "source": [
    "import cufflinks as cf"
   ]
  },
  {
   "cell_type": "code",
   "execution_count": null,
   "metadata": {},
   "outputs": [],
   "source": [
    "iplot(cf.datagen.lines().iplot(asFigure=True,\n",
    "                               kind='scatter',xTitle='Dates',yTitle='Returns',title='Returns'))"
   ]
  },
  {
   "cell_type": "code",
   "execution_count": null,
   "metadata": {},
   "outputs": [],
   "source": [
    "iplot(cf.datagen.heatmap(20,20).iplot(asFigure=True,\n",
    "                                      kind='heatmap',colorscale='spectral',title='Cufflinks - Heatmap'))"
   ]
  },
  {
   "cell_type": "code",
   "execution_count": null,
   "metadata": {},
   "outputs": [],
   "source": [
    "import pandas as pd\n",
    "\n",
    "df_airports = pd.read_csv('https://raw.githubusercontent.com/plotly/datasets/master/2011_february_us_airport_traffic.csv')\n",
    "df_airports.head()\n",
    "\n",
    "df_flight_paths = pd.read_csv('https://raw.githubusercontent.com/plotly/datasets/master/2011_february_aa_flight_paths.csv')\n",
    "df_flight_paths.head()\n",
    "\n",
    "airports = [ dict(\n",
    "        type = 'scattergeo',\n",
    "        locationmode = 'USA-states',\n",
    "        lon = df_airports['long'],\n",
    "        lat = df_airports['lat'],\n",
    "        hoverinfo = 'text',\n",
    "        text = df_airports['airport'],\n",
    "        mode = 'markers',\n",
    "        marker = dict( \n",
    "            size=2, \n",
    "            color='rgb(255, 0, 0)',\n",
    "            line = dict(\n",
    "                width=3,\n",
    "                color='rgba(68, 68, 68, 0)'\n",
    "            )\n",
    "        ))]\n",
    "        \n",
    "flight_paths = []\n",
    "for i in range( len( df_flight_paths ) ):\n",
    "    flight_paths.append(\n",
    "        dict(\n",
    "            type = 'scattergeo',\n",
    "            locationmode = 'USA-states',\n",
    "            lon = [ df_flight_paths['start_lon'][i], df_flight_paths['end_lon'][i] ],\n",
    "            lat = [ df_flight_paths['start_lat'][i], df_flight_paths['end_lat'][i] ],\n",
    "            mode = 'lines',\n",
    "            line = dict(\n",
    "                width = 1,\n",
    "                color = 'red',\n",
    "            ),\n",
    "            opacity = float(df_flight_paths['cnt'][i])/float(df_flight_paths['cnt'].max()),\n",
    "        )\n",
    "    )\n",
    "    \n",
    "layout = dict(\n",
    "        title = 'Feb. 2011 American Airline flight paths<br>(Hover for airport names)',\n",
    "        showlegend = False, \n",
    "        height = 800,\n",
    "        geo = dict(\n",
    "            scope='north america',\n",
    "            projection=dict( type='azimuthal equal area' ),\n",
    "            showland = True,\n",
    "            landcolor = 'rgb(243, 243, 243)',\n",
    "            countrycolor = 'rgb(204, 204, 204)',\n",
    "        ),\n",
    "    )\n",
    "    \n",
    "fig = dict( data=flight_paths + airports, layout=layout )\n",
    "\n",
    "iplot(fig)"
   ]
  },
  {
   "cell_type": "code",
   "execution_count": null,
   "metadata": {},
   "outputs": [],
   "source": [
    "import plotly.plotly as py # all methods in plotly.plotly will communicate with a Plotly Cloud or Plotly Enterprise\n",
    "\n",
    "# get_figure downloads a figure from plot.ly or Plotly Enterprise. \n",
    "# You need to provide credentials to download figures: https://plot.ly/python/getting-started/\n",
    "fig = py.get_figure('https://plot.ly/~jackp/8715', raw=True)\n",
    "iplot(fig)"
   ]
  },
  {
   "cell_type": "code",
   "execution_count": null,
   "metadata": {
    "collapsed": true
   },
   "outputs": [],
   "source": []
  }
 ],
 "metadata": {
  "anaconda-cloud": {},
  "kernelspec": {
   "display_name": "Python 3",
   "language": "python",
   "name": "python3"
  },
  "language_info": {
   "codemirror_mode": {
    "name": "ipython",
    "version": 3
   },
   "file_extension": ".py",
   "mimetype": "text/x-python",
   "name": "python",
   "nbconvert_exporter": "python",
   "pygments_lexer": "ipython3",
   "version": "3.6.2"
  }
 },
 "nbformat": 4,
 "nbformat_minor": 1
}
