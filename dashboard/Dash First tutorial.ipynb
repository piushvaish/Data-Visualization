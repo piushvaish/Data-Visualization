{
 "cells": [
  {
   "cell_type": "code",
   "execution_count": 6,
   "metadata": {},
   "outputs": [],
   "source": [
    "import dash\n",
    "import dash_core_components as dcc\n",
    "import dash_html_components as html\n",
    "from dash.dependencies import Input, Output\n"
   ]
  },
  {
   "cell_type": "code",
   "execution_count": 7,
   "metadata": {
    "collapsed": true
   },
   "outputs": [],
   "source": [
    "from IPython import display\n",
    "import os\n",
    "def show_app(app, port = 9999, \n",
    "             width = 700, \n",
    "             height = 350, \n",
    "             offline = False,\n",
    "            in_binder = None):\n",
    "    in_binder ='JUPYTERHUB_SERVICE_PREFIX' in os.environ if in_binder is None else in_binder\n",
    "    if in_binder:\n",
    "        base_prefix = '{}proxy/{}/'.format(os.environ['JUPYTERHUB_SERVICE_PREFIX'], port)\n",
    "        url = 'https://hub.mybinder.org{}'.format(base_prefix)\n",
    "        app.config.requests_pathname_prefix = base_prefix\n",
    "    else:\n",
    "        url = 'http://localhost:%d' % port\n",
    "        \n",
    "    iframe = '<a href=\"{url}\" target=\"_new\">Open in new window</a><hr><iframe src=\"{url}\" width={width} height={height}></iframe>'.format(url = url, \n",
    "                                                                                  width = width, \n",
    "                                                                                  height = height)\n",
    "    \n",
    "    display.display_html(iframe, raw = True)\n",
    "    if offline:\n",
    "        app.css.config.serve_locally = True\n",
    "        app.scripts.config.serve_locally = True\n",
    "    return app.run_server(debug=False, # needs to be false in Jupyter\n",
    "                          host = '0.0.0.0',\n",
    "                          port=port)\n"
   ]
  },
  {
   "cell_type": "code",
   "execution_count": 8,
   "metadata": {
    "collapsed": true
   },
   "outputs": [],
   "source": [
    "app_simple = dash.Dash()\n",
    "\n",
    "app_simple.layout = html.Div(children=[\n",
    "    html.H1(children='Hello Dash'),\n",
    "\n",
    "    html.Div(children='''\n",
    "        Dash: A web application framework for Python.\n",
    "    '''),\n",
    "\n",
    "    dcc.Graph(\n",
    "        id='example-graph',\n",
    "        figure={\n",
    "            'data': [\n",
    "                {'x': [1, 2, 3], 'y': [4, 1, 2], 'type': 'bar', 'name': 'SF'},\n",
    "                {'x': [1, 2, 3], 'y': [2, 4, 5], 'type': 'bar', 'name': u'Montréal'},\n",
    "            ],\n",
    "            'layout': {\n",
    "                'title': 'Dash Data Visualization'\n",
    "            }\n",
    "        }\n",
    "    )\n",
    "])"
   ]
  },
  {
   "cell_type": "code",
   "execution_count": 9,
   "metadata": {},
   "outputs": [
    {
     "data": {
      "text/html": [
       "<a href=\"http://localhost:9999\" target=\"_new\">Open in new window</a><hr><iframe src=\"http://localhost:9999\" width=700 height=350></iframe>"
      ]
     },
     "metadata": {},
     "output_type": "display_data"
    },
    {
     "name": "stderr",
     "output_type": "stream",
     "text": [
      " * Running on http://0.0.0.0:9999/ (Press CTRL+C to quit)\n",
      "127.0.0.1 - - [23/Jul/2018 20:43:59] \"\u001b[37mGET / HTTP/1.1\u001b[0m\" 200 -\n",
      "127.0.0.1 - - [23/Jul/2018 20:44:00] \"\u001b[37mGET /_dash-layout HTTP/1.1\u001b[0m\" 200 -\n",
      "127.0.0.1 - - [23/Jul/2018 20:44:00] \"\u001b[37mGET /_dash-dependencies HTTP/1.1\u001b[0m\" 200 -\n"
     ]
    }
   ],
   "source": [
    "show_app(app_simple)"
   ]
  },
  {
   "cell_type": "code",
   "execution_count": 10,
   "metadata": {
    "collapsed": true
   },
   "outputs": [],
   "source": [
    "import plotly.graph_objs as go\n",
    "import plotly.plotly as py\n",
    "import numpy as np\n",
    "\n",
    "app_iplotly = dash.Dash()\n",
    "\n",
    "app_iplotly.layout = html.Div([\n",
    "    html.Div([\n",
    "            html.Div(id='click_info'),\n",
    "             dcc.Graph(id='cur_plot', animate=False)\n",
    "            ],\n",
    "             id='plot_div')\n",
    "])\n",
    "\n",
    "def _simple_image(xval, yval, as_uri = True):\n",
    "    print(xval, yval, 'creating')\n",
    "    lin_x = np.arange(512)\n",
    "    lin_y = np.arange(512)\n",
    "    xx, yy = np.meshgrid(lin_y, lin_x)\n",
    "    out_mat = np.sqrt(np.square(xx-xval)+np.square(yy-yval))\n",
    "    if as_uri:\n",
    "        fig, ax1 = plt.matshow(out_mat)\n",
    "        out_uri = fig_to_uri(fig)\n",
    "        return dict(source = out_uri,\n",
    "                    x = lin_x.min(),\n",
    "                    sizex = lin_x.max()-lin_x.min(),\n",
    "                    y = lin_y.max(),\n",
    "                    sizey = lin_y.max() - lin_y.min(),\n",
    "                    xref= \"x\",\n",
    "                    yref= \"y\",\n",
    "                    sizing= \"stretch\",\n",
    "                    opacity= 0.5,\n",
    "                    layer= \"below\"\n",
    "                   )\n",
    "    else:\n",
    "        return out_mat"
   ]
  },
  {
   "cell_type": "code",
   "execution_count": 11,
   "metadata": {
    "collapsed": true
   },
   "outputs": [],
   "source": [
    "def update_graph(x_val, y_val):\n",
    "    traces = [go.Heatmap(z=_simple_image(x_val, y_val, as_uri = False),\n",
    "                        #colorscale='Viridis'\n",
    "                        )]\n",
    "    if (x_val>0) or (y_val>0):\n",
    "        traces += [go.Scatter(x = [x_val], y = [y_val])]\n",
    "    \n",
    "    layout = go.Layout(\n",
    "        #images= [_simple_image(x_val,y_val)],\n",
    "        annotations=[\n",
    "        dict(                            # all \"annotation\" attributes: /python/reference/#layout-annotations\n",
    "            text=\"Current Position ({}, {})\".format(x_val, y_val),    # /python/reference/#layout-annotations-text\n",
    "            x=x_val,                         # /python/reference/#layout-annotations-x\n",
    "            xref=\"y\",                # /python/reference/#layout-annotations-xref\n",
    "            y=y_val,                         # /python/reference/#layout-annotations-y\n",
    "            yref=\"y\"                 # /python/reference/#layout-annotations-yref\n",
    "        )\n",
    "    ]\n",
    "                      )\n",
    "    return dict(data = traces, layout=layout)\n"
   ]
  },
  {
   "cell_type": "code",
   "execution_count": 12,
   "metadata": {
    "collapsed": true
   },
   "outputs": [],
   "source": [
    "def get_hover_info(hover_data):\n",
    "    if hover_data is not None:\n",
    "        clicks = hover_data.get('points', [])\n",
    "        if len(clicks)>0:\n",
    "            x, y = clicks[0].get('x', 0), clicks[0].get('y', 0)\n",
    "            print(x,y, 'hovering')\n",
    "            return x,y\n",
    "    return 0,0\n",
    "\n",
    "@app_iplotly.callback(\n",
    "    Output(component_id='cur_plot', component_property='figure'),\n",
    "    [Input(component_id='cur_plot', component_property='clickData')]\n",
    ")\n",
    "def update_click_info(hover_data):\n",
    "    return update_graph(*get_hover_info(hover_data))"
   ]
  },
  {
   "cell_type": "code",
   "execution_count": 13,
   "metadata": {},
   "outputs": [
    {
     "data": {
      "text/html": [
       "<a href=\"http://localhost:9999\" target=\"_new\">Open in new window</a><hr><iframe src=\"http://localhost:9999\" width=700 height=350></iframe>"
      ]
     },
     "metadata": {},
     "output_type": "display_data"
    },
    {
     "name": "stderr",
     "output_type": "stream",
     "text": [
      " * Running on http://0.0.0.0:9999/ (Press CTRL+C to quit)\n",
      "127.0.0.1 - - [23/Jul/2018 20:50:15] \"\u001b[37mGET / HTTP/1.1\u001b[0m\" 200 -\n",
      "127.0.0.1 - - [23/Jul/2018 20:50:16] \"\u001b[37mGET /_dash-layout HTTP/1.1\u001b[0m\" 200 -\n",
      "127.0.0.1 - - [23/Jul/2018 20:50:16] \"\u001b[37mGET /_dash-dependencies HTTP/1.1\u001b[0m\" 200 -\n"
     ]
    },
    {
     "name": "stdout",
     "output_type": "stream",
     "text": [
      "0 0 creating\n"
     ]
    },
    {
     "name": "stderr",
     "output_type": "stream",
     "text": [
      "[2018-07-23 20:50:16,814] ERROR in app: Exception on /_dash-update-component [POST]\n",
      "Traceback (most recent call last):\n",
      "  File \"C:\\Users\\piush\\AppData\\Local\\conda\\conda\\envs\\viz\\lib\\site-packages\\flask\\app.py\", line 1982, in wsgi_app\n",
      "    response = self.full_dispatch_request()\n",
      "  File \"C:\\Users\\piush\\AppData\\Local\\conda\\conda\\envs\\viz\\lib\\site-packages\\flask\\app.py\", line 1614, in full_dispatch_request\n",
      "    rv = self.handle_user_exception(e)\n",
      "  File \"C:\\Users\\piush\\AppData\\Local\\conda\\conda\\envs\\viz\\lib\\site-packages\\flask\\app.py\", line 1517, in handle_user_exception\n",
      "    reraise(exc_type, exc_value, tb)\n",
      "  File \"C:\\Users\\piush\\AppData\\Local\\conda\\conda\\envs\\viz\\lib\\site-packages\\flask\\_compat.py\", line 33, in reraise\n",
      "    raise value\n",
      "  File \"C:\\Users\\piush\\AppData\\Local\\conda\\conda\\envs\\viz\\lib\\site-packages\\flask\\app.py\", line 1612, in full_dispatch_request\n",
      "    rv = self.dispatch_request()\n",
      "  File \"C:\\Users\\piush\\AppData\\Local\\conda\\conda\\envs\\viz\\lib\\site-packages\\flask\\app.py\", line 1598, in dispatch_request\n",
      "    return self.view_functions[rule.endpoint](**req.view_args)\n",
      "  File \"C:\\Users\\piush\\AppData\\Local\\conda\\conda\\envs\\viz\\lib\\site-packages\\dash\\dash.py\", line 558, in dispatch\n",
      "    return self.callback_map[target_id]['callback'](*args)\n",
      "  File \"C:\\Users\\piush\\AppData\\Local\\conda\\conda\\envs\\viz\\lib\\site-packages\\dash\\dash.py\", line 515, in add_context\n",
      "    output_value = func(*args, **kwargs)\n",
      "  File \"<ipython-input-12-1c6cab612895>\", line 15, in update_click_info\n",
      "    return update_graph(*get_hover_info(hover_data))\n",
      "  File \"<ipython-input-11-cec591e4f6da>\", line 16, in update_graph\n",
      "    yref=\"y\"                 # /python/reference/#layout-annotations-yref\n",
      "  File \"C:\\Users\\piush\\AppData\\Local\\conda\\conda\\envs\\viz\\lib\\site-packages\\plotly\\graph_objs\\_layout.py\", line 3687, in __init__\n",
      "    self.annotations = annotations if annotations is not None else _v\n",
      "  File \"C:\\Users\\piush\\AppData\\Local\\conda\\conda\\envs\\viz\\lib\\site-packages\\plotly\\basedatatypes.py\", line 3592, in __setattr__\n",
      "    super(BaseLayoutHierarchyType, self).__setattr__(prop, value)\n",
      "  File \"C:\\Users\\piush\\AppData\\Local\\conda\\conda\\envs\\viz\\lib\\site-packages\\plotly\\basedatatypes.py\", line 2693, in __setattr__\n",
      "    super(BasePlotlyType, self).__setattr__(prop, value)\n",
      "  File \"C:\\Users\\piush\\AppData\\Local\\conda\\conda\\envs\\viz\\lib\\site-packages\\plotly\\graph_objs\\_layout.py\", line 343, in annotations\n",
      "    self['annotations'] = val\n",
      "  File \"C:\\Users\\piush\\AppData\\Local\\conda\\conda\\envs\\viz\\lib\\site-packages\\plotly\\basedatatypes.py\", line 3578, in __setitem__\n",
      "    super(BaseLayoutHierarchyType, self).__setitem__(prop, value)\n",
      "  File \"C:\\Users\\piush\\AppData\\Local\\conda\\conda\\envs\\viz\\lib\\site-packages\\plotly\\basedatatypes.py\", line 2661, in __setitem__\n",
      "    self._set_array_prop(prop, value)\n",
      "  File \"C:\\Users\\piush\\AppData\\Local\\conda\\conda\\envs\\viz\\lib\\site-packages\\plotly\\basedatatypes.py\", line 3028, in _set_array_prop\n",
      "    val = validator.validate_coerce(val)\n",
      "  File \"C:\\Users\\piush\\AppData\\Local\\conda\\conda\\envs\\viz\\lib\\site-packages\\_plotly_utils\\basevalidators.py\", line 1850, in validate_coerce\n",
      "    res.append(self.data_class(**v_el))\n",
      "  File \"C:\\Users\\piush\\AppData\\Local\\conda\\conda\\envs\\viz\\lib\\site-packages\\plotly\\graph_objs\\layout\\_annotation.py\", line 1841, in __init__\n",
      "    self.xref = xref if xref is not None else _v\n",
      "  File \"C:\\Users\\piush\\AppData\\Local\\conda\\conda\\envs\\viz\\lib\\site-packages\\plotly\\basedatatypes.py\", line 2693, in __setattr__\n",
      "    super(BasePlotlyType, self).__setattr__(prop, value)\n",
      "  File \"C:\\Users\\piush\\AppData\\Local\\conda\\conda\\envs\\viz\\lib\\site-packages\\plotly\\graph_objs\\layout\\_annotation.py\", line 1018, in xref\n",
      "    self['xref'] = val\n",
      "  File \"C:\\Users\\piush\\AppData\\Local\\conda\\conda\\envs\\viz\\lib\\site-packages\\plotly\\basedatatypes.py\", line 2665, in __setitem__\n",
      "    self._set_prop(prop, value)\n",
      "  File \"C:\\Users\\piush\\AppData\\Local\\conda\\conda\\envs\\viz\\lib\\site-packages\\plotly\\basedatatypes.py\", line 2895, in _set_prop\n",
      "    val = validator.validate_coerce(val)\n",
      "  File \"C:\\Users\\piush\\AppData\\Local\\conda\\conda\\envs\\viz\\lib\\site-packages\\_plotly_utils\\basevalidators.py\", line 488, in validate_coerce\n",
      "    self.raise_invalid_val(v)\n",
      "  File \"C:\\Users\\piush\\AppData\\Local\\conda\\conda\\envs\\viz\\lib\\site-packages\\_plotly_utils\\basevalidators.py\", line 216, in raise_invalid_val\n",
      "    valid_clr_desc=self.description()))\n",
      "ValueError: \n",
      "    Invalid value of type 'builtins.str' received for the 'xref' property of layout.annotation\n",
      "        Received value: 'y'\n",
      "\n",
      "    The 'xref' property is an enumeration that may be specified as:\n",
      "      - One of the following enumeration values:\n",
      "            ['paper']\n",
      "      - A string that matches one of the following regular expressions:\n",
      "            ['^x([2-9]|[1-9][0-9]+)?$']\n",
      "127.0.0.1 - - [23/Jul/2018 20:50:16] \"\u001b[1m\u001b[35mPOST /_dash-update-component HTTP/1.1\u001b[0m\" 500 -\n"
     ]
    }
   ],
   "source": [
    "show_app(app_iplotly)"
   ]
  },
  {
   "cell_type": "code",
   "execution_count": 14,
   "metadata": {
    "collapsed": true
   },
   "outputs": [],
   "source": [
    "import pandas as pd\n",
    "\n",
    "df = pd.read_csv(\n",
    "    'https://gist.githubusercontent.com/chriddyp/'\n",
    "    'c78bf172206ce24f77d6363a2d754b59/raw/'\n",
    "    'c353e8ef842413cae56ae3920b8fd78468aa4cb2/'\n",
    "    'usa-agricultural-exports-2011.csv')\n",
    "\n",
    "\n",
    "app_pd_table = dash.Dash()\n",
    "\n",
    "app_pd_table.layout = html.Div(children=[\n",
    "    html.H4(children='US Agriculture Exports (2011)'),\n",
    "    html.Source(src = df.to_html())\n",
    "])"
   ]
  },
  {
   "cell_type": "code",
   "execution_count": null,
   "metadata": {},
   "outputs": [
    {
     "data": {
      "text/html": [
       "<a href=\"http://localhost:9999\" target=\"_new\">Open in new window</a><hr><iframe src=\"http://localhost:9999\" width=700 height=350></iframe>"
      ]
     },
     "metadata": {},
     "output_type": "display_data"
    },
    {
     "name": "stderr",
     "output_type": "stream",
     "text": [
      " * Running on http://0.0.0.0:9999/ (Press CTRL+C to quit)\n",
      "127.0.0.1 - - [23/Jul/2018 20:51:44] \"\u001b[37mGET / HTTP/1.1\u001b[0m\" 200 -\n",
      "127.0.0.1 - - [23/Jul/2018 20:51:44] \"\u001b[37mGET /_dash-layout HTTP/1.1\u001b[0m\" 200 -\n",
      "127.0.0.1 - - [23/Jul/2018 20:51:44] \"\u001b[37mGET /_dash-dependencies HTTP/1.1\u001b[0m\" 200 -\n"
     ]
    }
   ],
   "source": [
    "show_app(app_pd_table)"
   ]
  },
  {
   "cell_type": "code",
   "execution_count": null,
   "metadata": {
    "collapsed": true
   },
   "outputs": [],
   "source": []
  }
 ],
 "metadata": {
  "kernelspec": {
   "display_name": "Python 3",
   "language": "python",
   "name": "python3"
  },
  "language_info": {
   "codemirror_mode": {
    "name": "ipython",
    "version": 3
   },
   "file_extension": ".py",
   "mimetype": "text/x-python",
   "name": "python",
   "nbconvert_exporter": "python",
   "pygments_lexer": "ipython3",
   "version": "3.6.2"
  }
 },
 "nbformat": 4,
 "nbformat_minor": 2
}
